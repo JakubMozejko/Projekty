{
  "cells": [
    {
      "cell_type": "code",
      "execution_count": null,
      "metadata": {
        "id": "vxgxY0CnyszS"
      },
      "outputs": [],
      "source": [
        "from __future__ import print_function\n",
        "import numpy as np\n",
        "from keras.datasets import mnist\n",
        "from keras.models import Sequential \n",
        "from keras.layers.core import Dense, Activation\n",
        "from tensorflow.keras.optimizers import SGD\n",
        "from keras.utils import np_utils\n",
        "from keras import metrics\n",
        "np.random.seed (1671)\n",
        "from keras.models import Sequential\n",
        "from keras.layers import Dense\n",
        "from keras.layers import Flatten\n",
        "import matplotlib.pyplot as plt\n",
        "import tensorflow as tf\n",
        "from tensorflow.keras.layers import Conv2D\n",
        "from tensorflow.keras.layers import MaxPooling2D\n",
        "from tensorflow.keras.layers import BatchNormalization"
      ]
    },
    {
      "cell_type": "code",
      "execution_count": null,
      "metadata": {
        "id": "zTUPiRWSzDfJ"
      },
      "outputs": [],
      "source": [
        "from tensorflow.keras.datasets import mnist "
      ]
    },
    {
      "cell_type": "code",
      "execution_count": null,
      "metadata": {
        "id": "QJtteZuY0i4v"
      },
      "outputs": [],
      "source": [
        "data = mnist.load_data()"
      ]
    },
    {
      "cell_type": "code",
      "execution_count": null,
      "metadata": {
        "colab": {
          "base_uri": "https://localhost:8080/"
        },
        "id": "Dv3HkPTF0rac",
        "outputId": "fb81f596-9f79-40f4-b12c-d265347ced36"
      },
      "outputs": [
        {
          "data": {
            "text/plain": [
              "tuple"
            ]
          },
          "execution_count": 121,
          "metadata": {},
          "output_type": "execute_result"
        }
      ],
      "source": [
        "data\n",
        "type(data)"
      ]
    },
    {
      "cell_type": "code",
      "execution_count": null,
      "metadata": {
        "id": "G6t1msSB61_j"
      },
      "outputs": [],
      "source": [
        "NB_EPOCH = 20\n",
        "BATCH_SIZE = 128\n",
        "VERBOSE = 1\n",
        "NB_CLASSES = 10 \n",
        "OPTIMIZER = SGD() \n",
        "N_HIDDEN = 128\n",
        "VALIDATION_SPLIT = 0.2 \n",
        "RESHAPED = 784\n"
      ]
    },
    {
      "cell_type": "code",
      "execution_count": null,
      "metadata": {
        "colab": {
          "base_uri": "https://localhost:8080/"
        },
        "id": "TZUEzEPz0tDD",
        "outputId": "da80b4a6-5d9e-44f5-f83f-af50958cf3c3"
      },
      "outputs": [
        {
          "data": {
            "text/plain": [
              "(60000, 28, 28)"
            ]
          },
          "execution_count": 126,
          "metadata": {},
          "output_type": "execute_result"
        }
      ],
      "source": [
        "(X_train, y_train), (X_test, y_test) = data\n",
        "X_train[0].shape\n",
        "X_train.shape"
      ]
    },
    {
      "cell_type": "code",
      "execution_count": null,
      "metadata": {
        "id": "-Ofz8SSS0uz4"
      },
      "outputs": [],
      "source": [
        "RESHAPED = 784\n",
        "X_train = X_train.reshape(60000, RESHAPED)\n",
        "X_test = X_test.reshape(10000, RESHAPED)"
      ]
    },
    {
      "cell_type": "code",
      "execution_count": null,
      "metadata": {
        "id": "6n699hUV0wvU"
      },
      "outputs": [],
      "source": [
        "X_train = X_train.astype('float32')\n",
        "X_test = X_test.astype('float32')\n",
        "X_train /= 255\n",
        "X_test /= 255"
      ]
    },
    {
      "cell_type": "code",
      "execution_count": null,
      "metadata": {
        "id": "5-VYMmUn2hrD"
      },
      "outputs": [],
      "source": [
        "Y_train = np_utils.to_categorical(y_train, NB_CLASSES)\n",
        "Y_test = np_utils.to_categorical(y_test, NB_CLASSES)"
      ]
    },
    {
      "cell_type": "code",
      "execution_count": null,
      "metadata": {
        "colab": {
          "base_uri": "https://localhost:8080/"
        },
        "id": "xF99r3At0ycj",
        "outputId": "4482c185-8124-4447-e8b7-dcd85c2fdf3d"
      },
      "outputs": [
        {
          "data": {
            "text/plain": [
              "<bound method Model.summary of <keras.engine.sequential.Sequential object at 0x7f311cbd4410>>"
            ]
          },
          "execution_count": 77,
          "metadata": {},
          "output_type": "execute_result"
        }
      ],
      "source": [
        "model = Sequential()\n",
        "model.add (Dense(N_HIDDEN, input_shape = (RESHAPED,)))\n",
        "model.add(Activation('relu'))\n",
        "model.add (Dense(N_HIDDEN))\n",
        "model.add(Activation('relu'))\n",
        "model.add (Dense(NB_CLASSES))\n",
        "model.add(Activation('softmax'))\n",
        "model.summary"
      ]
    },
    {
      "cell_type": "code",
      "execution_count": null,
      "metadata": {
        "colab": {
          "base_uri": "https://localhost:8080/"
        },
        "id": "19wDQFrX01y6",
        "outputId": "96f4680f-f8da-49b6-c7e4-40d189d015a9"
      },
      "outputs": [
        {
          "name": "stdout",
          "output_type": "stream",
          "text": [
            "Model: \"sequential_6\"\n",
            "_________________________________________________________________\n",
            " Layer (type)                Output Shape              Param #   \n",
            "=================================================================\n",
            " dense_18 (Dense)            (None, 128)               100480    \n",
            "                                                                 \n",
            " activation_18 (Activation)  (None, 128)               0         \n",
            "                                                                 \n",
            " dense_19 (Dense)            (None, 128)               16512     \n",
            "                                                                 \n",
            " activation_19 (Activation)  (None, 128)               0         \n",
            "                                                                 \n",
            " dense_20 (Dense)            (None, 10)                1290      \n",
            "                                                                 \n",
            " activation_20 (Activation)  (None, 10)                0         \n",
            "                                                                 \n",
            "=================================================================\n",
            "Total params: 118,282\n",
            "Trainable params: 118,282\n",
            "Non-trainable params: 0\n",
            "_________________________________________________________________\n"
          ]
        }
      ],
      "source": [
        " model.summary()"
      ]
    },
    {
      "cell_type": "code",
      "execution_count": null,
      "metadata": {
        "id": "7IjdW9Ri1yzj"
      },
      "outputs": [],
      "source": [
        "loss = tf.keras.losses.BinaryCrossentropy()"
      ]
    },
    {
      "cell_type": "code",
      "execution_count": null,
      "metadata": {
        "id": "ycKPqiVht_3X"
      },
      "outputs": [],
      "source": [
        "opt = tf.keras.optimizers.SGD(learning_rate=0.05)\n",
        "loss = tf.keras.losses.MeanSquaredError()"
      ]
    },
    {
      "cell_type": "code",
      "execution_count": null,
      "metadata": {
        "id": "w_p5uow21w27"
      },
      "outputs": [],
      "source": [
        "model.compile(loss = 'categorical_crossentropy',\n",
        "             optimizer = OPTIMIZER,\n",
        "             metrics = ['accuracy'])"
      ]
    },
    {
      "cell_type": "code",
      "execution_count": null,
      "metadata": {
        "id": "dvFa5pKe1J9d"
      },
      "outputs": [],
      "source": [
        "model.compile(optimizer = opt,loss= loss, metrics = ['accuracy'])"
      ]
    },
    {
      "cell_type": "markdown",
      "metadata": {
        "id": "9HePjB-hx7KO"
      },
      "source": [
        "Dokladnosc modelu 95% i widac ze wykres sie wyplaszcza, wiecej epok nie daloby duzo lepszych rezultatow"
      ]
    },
    {
      "cell_type": "code",
      "execution_count": null,
      "metadata": {
        "colab": {
          "base_uri": "https://localhost:8080/"
        },
        "id": "zMR23z_O06Hf",
        "outputId": "2068d271-65bc-4070-f31e-f14291e47190"
      },
      "outputs": [
        {
          "name": "stdout",
          "output_type": "stream",
          "text": [
            "Epoch 1/100\n",
            "375/375 [==============================] - 2s 6ms/step - loss: 0.0874 - accuracy: 0.2929 - val_loss: 0.0840 - val_accuracy: 0.3983\n",
            "Epoch 2/100\n",
            "375/375 [==============================] - 2s 5ms/step - loss: 0.0797 - accuracy: 0.4415 - val_loss: 0.0740 - val_accuracy: 0.5128\n",
            "Epoch 3/100\n",
            "375/375 [==============================] - 2s 5ms/step - loss: 0.0681 - accuracy: 0.5635 - val_loss: 0.0604 - val_accuracy: 0.6352\n",
            "Epoch 4/100\n",
            "375/375 [==============================] - 2s 5ms/step - loss: 0.0548 - accuracy: 0.6671 - val_loss: 0.0474 - val_accuracy: 0.7147\n",
            "Epoch 5/100\n",
            "375/375 [==============================] - 2s 4ms/step - loss: 0.0440 - accuracy: 0.7334 - val_loss: 0.0382 - val_accuracy: 0.7741\n",
            "Epoch 6/100\n",
            "375/375 [==============================] - 2s 5ms/step - loss: 0.0363 - accuracy: 0.7889 - val_loss: 0.0315 - val_accuracy: 0.8261\n",
            "Epoch 7/100\n",
            "375/375 [==============================] - 2s 5ms/step - loss: 0.0307 - accuracy: 0.8319 - val_loss: 0.0268 - val_accuracy: 0.8548\n",
            "Epoch 8/100\n",
            "375/375 [==============================] - 2s 5ms/step - loss: 0.0268 - accuracy: 0.8531 - val_loss: 0.0236 - val_accuracy: 0.8688\n",
            "Epoch 9/100\n",
            "375/375 [==============================] - 2s 5ms/step - loss: 0.0241 - accuracy: 0.8652 - val_loss: 0.0213 - val_accuracy: 0.8798\n",
            "Epoch 10/100\n",
            "375/375 [==============================] - 2s 5ms/step - loss: 0.0222 - accuracy: 0.8739 - val_loss: 0.0198 - val_accuracy: 0.8863\n",
            "Epoch 11/100\n",
            "375/375 [==============================] - 2s 5ms/step - loss: 0.0207 - accuracy: 0.8792 - val_loss: 0.0186 - val_accuracy: 0.8916\n",
            "Epoch 12/100\n",
            "375/375 [==============================] - 2s 5ms/step - loss: 0.0196 - accuracy: 0.8839 - val_loss: 0.0177 - val_accuracy: 0.8956\n",
            "Epoch 13/100\n",
            "375/375 [==============================] - 2s 5ms/step - loss: 0.0188 - accuracy: 0.8876 - val_loss: 0.0169 - val_accuracy: 0.8977\n",
            "Epoch 14/100\n",
            "375/375 [==============================] - 2s 5ms/step - loss: 0.0181 - accuracy: 0.8907 - val_loss: 0.0163 - val_accuracy: 0.8997\n",
            "Epoch 15/100\n",
            "375/375 [==============================] - 2s 5ms/step - loss: 0.0175 - accuracy: 0.8934 - val_loss: 0.0158 - val_accuracy: 0.9028\n",
            "Epoch 16/100\n",
            "375/375 [==============================] - 2s 5ms/step - loss: 0.0170 - accuracy: 0.8960 - val_loss: 0.0154 - val_accuracy: 0.9041\n",
            "Epoch 17/100\n",
            "375/375 [==============================] - 2s 5ms/step - loss: 0.0165 - accuracy: 0.8987 - val_loss: 0.0150 - val_accuracy: 0.9066\n",
            "Epoch 18/100\n",
            "375/375 [==============================] - 2s 4ms/step - loss: 0.0161 - accuracy: 0.8999 - val_loss: 0.0147 - val_accuracy: 0.9077\n",
            "Epoch 19/100\n",
            "375/375 [==============================] - 2s 5ms/step - loss: 0.0158 - accuracy: 0.9017 - val_loss: 0.0144 - val_accuracy: 0.9098\n",
            "Epoch 20/100\n",
            "375/375 [==============================] - 2s 5ms/step - loss: 0.0155 - accuracy: 0.9034 - val_loss: 0.0142 - val_accuracy: 0.9114\n",
            "Epoch 21/100\n",
            "375/375 [==============================] - 2s 5ms/step - loss: 0.0152 - accuracy: 0.9050 - val_loss: 0.0139 - val_accuracy: 0.9122\n",
            "Epoch 22/100\n",
            "375/375 [==============================] - 2s 4ms/step - loss: 0.0149 - accuracy: 0.9057 - val_loss: 0.0137 - val_accuracy: 0.9133\n",
            "Epoch 23/100\n",
            "375/375 [==============================] - 2s 5ms/step - loss: 0.0147 - accuracy: 0.9078 - val_loss: 0.0135 - val_accuracy: 0.9144\n",
            "Epoch 24/100\n",
            "375/375 [==============================] - 2s 5ms/step - loss: 0.0144 - accuracy: 0.9091 - val_loss: 0.0133 - val_accuracy: 0.9154\n",
            "Epoch 25/100\n",
            "375/375 [==============================] - 2s 5ms/step - loss: 0.0142 - accuracy: 0.9105 - val_loss: 0.0132 - val_accuracy: 0.9162\n",
            "Epoch 26/100\n",
            "375/375 [==============================] - 2s 4ms/step - loss: 0.0140 - accuracy: 0.9118 - val_loss: 0.0130 - val_accuracy: 0.9174\n",
            "Epoch 27/100\n",
            "375/375 [==============================] - 2s 5ms/step - loss: 0.0139 - accuracy: 0.9130 - val_loss: 0.0128 - val_accuracy: 0.9179\n",
            "Epoch 28/100\n",
            "375/375 [==============================] - 2s 5ms/step - loss: 0.0137 - accuracy: 0.9136 - val_loss: 0.0127 - val_accuracy: 0.9189\n",
            "Epoch 29/100\n",
            "375/375 [==============================] - 2s 4ms/step - loss: 0.0135 - accuracy: 0.9147 - val_loss: 0.0125 - val_accuracy: 0.9191\n",
            "Epoch 30/100\n",
            "375/375 [==============================] - 2s 4ms/step - loss: 0.0133 - accuracy: 0.9160 - val_loss: 0.0124 - val_accuracy: 0.9210\n",
            "Epoch 31/100\n",
            "375/375 [==============================] - 2s 5ms/step - loss: 0.0132 - accuracy: 0.9169 - val_loss: 0.0123 - val_accuracy: 0.9213\n",
            "Epoch 32/100\n",
            "375/375 [==============================] - 2s 4ms/step - loss: 0.0130 - accuracy: 0.9174 - val_loss: 0.0122 - val_accuracy: 0.9219\n",
            "Epoch 33/100\n",
            "375/375 [==============================] - 2s 5ms/step - loss: 0.0129 - accuracy: 0.9184 - val_loss: 0.0121 - val_accuracy: 0.9233\n",
            "Epoch 34/100\n",
            "375/375 [==============================] - 2s 5ms/step - loss: 0.0128 - accuracy: 0.9190 - val_loss: 0.0120 - val_accuracy: 0.9234\n",
            "Epoch 35/100\n",
            "375/375 [==============================] - 2s 5ms/step - loss: 0.0126 - accuracy: 0.9201 - val_loss: 0.0119 - val_accuracy: 0.9243\n",
            "Epoch 36/100\n",
            "375/375 [==============================] - 2s 4ms/step - loss: 0.0125 - accuracy: 0.9205 - val_loss: 0.0118 - val_accuracy: 0.9252\n",
            "Epoch 37/100\n",
            "375/375 [==============================] - 2s 5ms/step - loss: 0.0124 - accuracy: 0.9219 - val_loss: 0.0116 - val_accuracy: 0.9268\n",
            "Epoch 38/100\n",
            "375/375 [==============================] - 2s 5ms/step - loss: 0.0123 - accuracy: 0.9228 - val_loss: 0.0116 - val_accuracy: 0.9269\n",
            "Epoch 39/100\n",
            "375/375 [==============================] - 2s 5ms/step - loss: 0.0121 - accuracy: 0.9231 - val_loss: 0.0115 - val_accuracy: 0.9277\n",
            "Epoch 40/100\n",
            "375/375 [==============================] - 2s 4ms/step - loss: 0.0120 - accuracy: 0.9237 - val_loss: 0.0114 - val_accuracy: 0.9284\n",
            "Epoch 41/100\n",
            "375/375 [==============================] - 2s 4ms/step - loss: 0.0119 - accuracy: 0.9246 - val_loss: 0.0113 - val_accuracy: 0.9288\n",
            "Epoch 42/100\n",
            "375/375 [==============================] - 2s 5ms/step - loss: 0.0118 - accuracy: 0.9251 - val_loss: 0.0112 - val_accuracy: 0.9291\n",
            "Epoch 43/100\n",
            "375/375 [==============================] - 2s 4ms/step - loss: 0.0117 - accuracy: 0.9261 - val_loss: 0.0111 - val_accuracy: 0.9300\n",
            "Epoch 44/100\n",
            "375/375 [==============================] - 2s 5ms/step - loss: 0.0116 - accuracy: 0.9266 - val_loss: 0.0111 - val_accuracy: 0.9302\n",
            "Epoch 45/100\n",
            "375/375 [==============================] - 2s 5ms/step - loss: 0.0115 - accuracy: 0.9275 - val_loss: 0.0110 - val_accuracy: 0.9298\n",
            "Epoch 46/100\n",
            "375/375 [==============================] - 2s 5ms/step - loss: 0.0114 - accuracy: 0.9275 - val_loss: 0.0109 - val_accuracy: 0.9308\n",
            "Epoch 47/100\n",
            "375/375 [==============================] - 2s 5ms/step - loss: 0.0113 - accuracy: 0.9283 - val_loss: 0.0108 - val_accuracy: 0.9312\n",
            "Epoch 48/100\n",
            "375/375 [==============================] - 2s 5ms/step - loss: 0.0113 - accuracy: 0.9295 - val_loss: 0.0107 - val_accuracy: 0.9319\n",
            "Epoch 49/100\n",
            "375/375 [==============================] - 2s 5ms/step - loss: 0.0112 - accuracy: 0.9297 - val_loss: 0.0107 - val_accuracy: 0.9324\n",
            "Epoch 50/100\n",
            "375/375 [==============================] - 2s 4ms/step - loss: 0.0111 - accuracy: 0.9304 - val_loss: 0.0106 - val_accuracy: 0.9327\n",
            "Epoch 51/100\n",
            "375/375 [==============================] - 2s 4ms/step - loss: 0.0110 - accuracy: 0.9311 - val_loss: 0.0105 - val_accuracy: 0.9333\n",
            "Epoch 52/100\n",
            "375/375 [==============================] - 2s 5ms/step - loss: 0.0109 - accuracy: 0.9316 - val_loss: 0.0105 - val_accuracy: 0.9334\n",
            "Epoch 53/100\n",
            "375/375 [==============================] - 2s 4ms/step - loss: 0.0108 - accuracy: 0.9323 - val_loss: 0.0104 - val_accuracy: 0.9343\n",
            "Epoch 54/100\n",
            "375/375 [==============================] - 2s 5ms/step - loss: 0.0108 - accuracy: 0.9329 - val_loss: 0.0103 - val_accuracy: 0.9340\n",
            "Epoch 55/100\n",
            "375/375 [==============================] - 2s 5ms/step - loss: 0.0107 - accuracy: 0.9333 - val_loss: 0.0103 - val_accuracy: 0.9349\n",
            "Epoch 56/100\n",
            "375/375 [==============================] - 2s 4ms/step - loss: 0.0106 - accuracy: 0.9338 - val_loss: 0.0102 - val_accuracy: 0.9350\n",
            "Epoch 57/100\n",
            "375/375 [==============================] - 2s 4ms/step - loss: 0.0105 - accuracy: 0.9341 - val_loss: 0.0102 - val_accuracy: 0.9355\n",
            "Epoch 58/100\n",
            "375/375 [==============================] - 2s 4ms/step - loss: 0.0104 - accuracy: 0.9349 - val_loss: 0.0101 - val_accuracy: 0.9351\n",
            "Epoch 59/100\n",
            "375/375 [==============================] - 2s 5ms/step - loss: 0.0104 - accuracy: 0.9351 - val_loss: 0.0100 - val_accuracy: 0.9358\n",
            "Epoch 60/100\n",
            "375/375 [==============================] - 2s 5ms/step - loss: 0.0103 - accuracy: 0.9358 - val_loss: 0.0100 - val_accuracy: 0.9353\n",
            "Epoch 61/100\n",
            "375/375 [==============================] - 2s 5ms/step - loss: 0.0102 - accuracy: 0.9361 - val_loss: 0.0099 - val_accuracy: 0.9368\n",
            "Epoch 62/100\n",
            "375/375 [==============================] - 2s 5ms/step - loss: 0.0102 - accuracy: 0.9367 - val_loss: 0.0099 - val_accuracy: 0.9372\n",
            "Epoch 63/100\n",
            "375/375 [==============================] - 2s 5ms/step - loss: 0.0101 - accuracy: 0.9370 - val_loss: 0.0098 - val_accuracy: 0.9373\n",
            "Epoch 64/100\n",
            "375/375 [==============================] - 2s 5ms/step - loss: 0.0100 - accuracy: 0.9371 - val_loss: 0.0098 - val_accuracy: 0.9380\n",
            "Epoch 65/100\n",
            "375/375 [==============================] - 2s 5ms/step - loss: 0.0100 - accuracy: 0.9379 - val_loss: 0.0097 - val_accuracy: 0.9377\n",
            "Epoch 66/100\n",
            "375/375 [==============================] - 2s 4ms/step - loss: 0.0099 - accuracy: 0.9381 - val_loss: 0.0097 - val_accuracy: 0.9390\n",
            "Epoch 67/100\n",
            "375/375 [==============================] - 2s 5ms/step - loss: 0.0098 - accuracy: 0.9384 - val_loss: 0.0096 - val_accuracy: 0.9389\n",
            "Epoch 68/100\n",
            "375/375 [==============================] - 2s 4ms/step - loss: 0.0098 - accuracy: 0.9393 - val_loss: 0.0096 - val_accuracy: 0.9397\n",
            "Epoch 69/100\n",
            "375/375 [==============================] - 2s 5ms/step - loss: 0.0097 - accuracy: 0.9394 - val_loss: 0.0095 - val_accuracy: 0.9397\n",
            "Epoch 70/100\n",
            "375/375 [==============================] - 2s 5ms/step - loss: 0.0096 - accuracy: 0.9402 - val_loss: 0.0095 - val_accuracy: 0.9407\n",
            "Epoch 71/100\n",
            "375/375 [==============================] - 2s 5ms/step - loss: 0.0096 - accuracy: 0.9404 - val_loss: 0.0094 - val_accuracy: 0.9400\n",
            "Epoch 72/100\n",
            "375/375 [==============================] - 2s 5ms/step - loss: 0.0095 - accuracy: 0.9407 - val_loss: 0.0093 - val_accuracy: 0.9411\n",
            "Epoch 73/100\n",
            "375/375 [==============================] - 2s 5ms/step - loss: 0.0095 - accuracy: 0.9412 - val_loss: 0.0093 - val_accuracy: 0.9416\n",
            "Epoch 74/100\n",
            "375/375 [==============================] - 2s 4ms/step - loss: 0.0094 - accuracy: 0.9414 - val_loss: 0.0093 - val_accuracy: 0.9414\n",
            "Epoch 75/100\n",
            "375/375 [==============================] - 2s 5ms/step - loss: 0.0093 - accuracy: 0.9420 - val_loss: 0.0092 - val_accuracy: 0.9416\n",
            "Epoch 76/100\n",
            "375/375 [==============================] - 2s 4ms/step - loss: 0.0093 - accuracy: 0.9426 - val_loss: 0.0092 - val_accuracy: 0.9424\n",
            "Epoch 77/100\n",
            "375/375 [==============================] - 2s 5ms/step - loss: 0.0092 - accuracy: 0.9425 - val_loss: 0.0091 - val_accuracy: 0.9426\n",
            "Epoch 78/100\n",
            "375/375 [==============================] - 2s 5ms/step - loss: 0.0092 - accuracy: 0.9431 - val_loss: 0.0091 - val_accuracy: 0.9426\n",
            "Epoch 79/100\n",
            "375/375 [==============================] - 2s 5ms/step - loss: 0.0091 - accuracy: 0.9431 - val_loss: 0.0090 - val_accuracy: 0.9429\n",
            "Epoch 80/100\n",
            "375/375 [==============================] - 2s 5ms/step - loss: 0.0091 - accuracy: 0.9436 - val_loss: 0.0090 - val_accuracy: 0.9441\n",
            "Epoch 81/100\n",
            "375/375 [==============================] - 2s 5ms/step - loss: 0.0090 - accuracy: 0.9440 - val_loss: 0.0089 - val_accuracy: 0.9433\n",
            "Epoch 82/100\n",
            "375/375 [==============================] - 2s 5ms/step - loss: 0.0090 - accuracy: 0.9440 - val_loss: 0.0089 - val_accuracy: 0.9436\n",
            "Epoch 83/100\n",
            "375/375 [==============================] - 2s 5ms/step - loss: 0.0089 - accuracy: 0.9447 - val_loss: 0.0089 - val_accuracy: 0.9442\n",
            "Epoch 84/100\n",
            "375/375 [==============================] - 2s 5ms/step - loss: 0.0089 - accuracy: 0.9448 - val_loss: 0.0088 - val_accuracy: 0.9443\n",
            "Epoch 85/100\n",
            "375/375 [==============================] - 2s 5ms/step - loss: 0.0088 - accuracy: 0.9451 - val_loss: 0.0088 - val_accuracy: 0.9452\n",
            "Epoch 86/100\n",
            "375/375 [==============================] - 2s 5ms/step - loss: 0.0087 - accuracy: 0.9453 - val_loss: 0.0088 - val_accuracy: 0.9452\n",
            "Epoch 87/100\n",
            "375/375 [==============================] - 2s 5ms/step - loss: 0.0087 - accuracy: 0.9461 - val_loss: 0.0087 - val_accuracy: 0.9457\n",
            "Epoch 88/100\n",
            "375/375 [==============================] - 2s 5ms/step - loss: 0.0086 - accuracy: 0.9461 - val_loss: 0.0087 - val_accuracy: 0.9460\n",
            "Epoch 89/100\n",
            "375/375 [==============================] - 2s 5ms/step - loss: 0.0086 - accuracy: 0.9463 - val_loss: 0.0086 - val_accuracy: 0.9467\n",
            "Epoch 90/100\n",
            "375/375 [==============================] - 2s 4ms/step - loss: 0.0085 - accuracy: 0.9471 - val_loss: 0.0086 - val_accuracy: 0.9467\n",
            "Epoch 91/100\n",
            "375/375 [==============================] - 2s 4ms/step - loss: 0.0085 - accuracy: 0.9475 - val_loss: 0.0085 - val_accuracy: 0.9469\n",
            "Epoch 92/100\n",
            "375/375 [==============================] - 2s 5ms/step - loss: 0.0085 - accuracy: 0.9476 - val_loss: 0.0085 - val_accuracy: 0.9474\n",
            "Epoch 93/100\n",
            "375/375 [==============================] - 2s 5ms/step - loss: 0.0084 - accuracy: 0.9478 - val_loss: 0.0085 - val_accuracy: 0.9477\n",
            "Epoch 94/100\n",
            "375/375 [==============================] - 2s 5ms/step - loss: 0.0084 - accuracy: 0.9479 - val_loss: 0.0084 - val_accuracy: 0.9476\n",
            "Epoch 95/100\n",
            "375/375 [==============================] - 2s 5ms/step - loss: 0.0083 - accuracy: 0.9486 - val_loss: 0.0084 - val_accuracy: 0.9482\n",
            "Epoch 96/100\n",
            "375/375 [==============================] - 2s 5ms/step - loss: 0.0083 - accuracy: 0.9486 - val_loss: 0.0084 - val_accuracy: 0.9477\n",
            "Epoch 97/100\n",
            "375/375 [==============================] - 2s 4ms/step - loss: 0.0082 - accuracy: 0.9491 - val_loss: 0.0084 - val_accuracy: 0.9488\n",
            "Epoch 98/100\n",
            "375/375 [==============================] - 2s 4ms/step - loss: 0.0082 - accuracy: 0.9498 - val_loss: 0.0083 - val_accuracy: 0.9480\n",
            "Epoch 99/100\n",
            "375/375 [==============================] - 2s 4ms/step - loss: 0.0081 - accuracy: 0.9497 - val_loss: 0.0082 - val_accuracy: 0.9494\n",
            "Epoch 100/100\n",
            "375/375 [==============================] - 2s 5ms/step - loss: 0.0081 - accuracy: 0.9500 - val_loss: 0.0082 - val_accuracy: 0.9498\n"
          ]
        }
      ],
      "source": [
        "history = model.fit(X_train, Y_train,\n",
        "                   batch_size = BATCH_SIZE,\n",
        "                   epochs = 100,\n",
        "                   verbose = 1,\n",
        "                   validation_split = VALIDATION_SPLIT)"
      ]
    },
    {
      "cell_type": "code",
      "execution_count": null,
      "metadata": {
        "colab": {
          "base_uri": "https://localhost:8080/"
        },
        "id": "mP-5RrIT1ExK",
        "outputId": "3817d8da-e070-4ba9-d4f4-1e852b9b539f"
      },
      "outputs": [
        {
          "data": {
            "text/plain": [
              "dict_keys(['loss', 'accuracy', 'val_loss', 'val_accuracy'])"
            ]
          },
          "execution_count": 84,
          "metadata": {},
          "output_type": "execute_result"
        }
      ],
      "source": [
        "history.history.keys()"
      ]
    },
    {
      "cell_type": "code",
      "execution_count": null,
      "metadata": {
        "colab": {
          "base_uri": "https://localhost:8080/",
          "height": 621
        },
        "id": "aoV5VDLW7-_7",
        "outputId": "9b9f9549-12b8-4f11-df5b-49dcc2aa6d46"
      },
      "outputs": [
        {
          "data": {
            "image/png": "[encoded data removed]",
            "text/plain": [
              "<Figure size 1440x720 with 1 Axes>"
            ]
          },
          "metadata": {},
          "output_type": "display_data"
        }
      ],
      "source": [
        "fig = plt.figure(figsize=(20,10))\n",
        "plt.plot(history.history[\"accuracy\"])\n",
        "plt.plot(history.history[\"val_accuracy\"])\n",
        "plt.xlabel(\"Epoki\")\n",
        "plt.ylabel(\"Dokladnosc\")\n",
        "plt.title(\"Dokladnosc modelu\")\n",
        "plt.legend([\"training\", \"validation\"])\n",
        "plt.show()"
      ]
    },
    {
      "cell_type": "code",
      "execution_count": null,
      "metadata": {
        "colab": {
          "base_uri": "https://localhost:8080/"
        },
        "id": "FUpgEnrVyab2",
        "outputId": "abb7bd9d-20a4-4503-b2cb-53c7d75cbd6e"
      },
      "outputs": [
        {
          "data": {
            "text/plain": [
              "(60000, 28, 28)"
            ]
          },
          "execution_count": 185,
          "metadata": {},
          "output_type": "execute_result"
        }
      ],
      "source": [
        "(X_train, y_train), (X_test, y_test) = data\n",
        "X_train[0].shape\n",
        "X_train.shape\n"
      ]
    },
    {
      "cell_type": "code",
      "execution_count": null,
      "metadata": {
        "colab": {
          "base_uri": "https://localhost:8080/"
        },
        "id": "ylKRA-UuyrGu",
        "outputId": "16912007-51df-429f-90ac-691440dec4a7"
      },
      "outputs": [
        {
          "data": {
            "text/plain": [
              "(60000, 28, 28)"
            ]
          },
          "execution_count": 186,
          "metadata": {},
          "output_type": "execute_result"
        }
      ],
      "source": [
        "X_train = X_train.astype('float32')\n",
        "X_test = X_test.astype('float32')\n",
        "X_train /= 255\n",
        "X_test /= 255\n",
        "X_train.shape"
      ]
    },
    {
      "cell_type": "code",
      "execution_count": null,
      "metadata": {
        "id": "VkaAC9c6y_5u"
      },
      "outputs": [],
      "source": [
        "Y_train = np_utils.to_categorical(y_train, NB_CLASSES)\n",
        "Y_test = np_utils.to_categorical(y_test, NB_CLASSES)"
      ]
    },
    {
      "cell_type": "code",
      "execution_count": null,
      "metadata": {
        "id": "yPa4nofH8F5e"
      },
      "outputs": [],
      "source": [
        "\n",
        "model2=Sequential()\n",
        "\n",
        "#model.add(Lambda(standardize,input_shape=(28,28,1)))    \n",
        "model2.add(Conv2D(filters=64, kernel_size = (3,3), activation=\"relu\", input_shape=(28,28,1)))\n",
        "model2.add(Conv2D(filters=64, kernel_size = (3,3), activation=\"relu\"))\n",
        "\n",
        "model2.add(MaxPooling2D(pool_size=(2,2)))\n",
        "model2.add(BatchNormalization())\n",
        "model2.add(Conv2D(filters=128, kernel_size = (3,3), activation=\"relu\"))\n",
        "model2.add(Conv2D(filters=128, kernel_size = (3,3), activation=\"relu\"))\n",
        "\n",
        "model2.add(MaxPooling2D(pool_size=(2,2)))\n",
        "model2.add(BatchNormalization())    \n",
        "model2.add(Conv2D(filters=256, kernel_size = (3,3), activation=\"relu\"))\n",
        "    \n",
        "model2.add(MaxPooling2D(pool_size=(2,2)))\n",
        "    \n",
        "model2.add(Flatten())\n",
        "model2.add(BatchNormalization())\n",
        "model2.add(Dense(512,activation=\"relu\"))\n",
        "    \n",
        "model2.add(Dense(10,activation=\"softmax\"))\n",
        "    \n",
        "model2.compile(loss=\"categorical_crossentropy\", optimizer=OPTIMIZER, metrics=[\"accuracy\"])"
      ]
    },
    {
      "cell_type": "code",
      "execution_count": null,
      "metadata": {
        "colab": {
          "base_uri": "https://localhost:8080/"
        },
        "id": "n49VwLRl0vd2",
        "outputId": "51d65847-994d-43cf-fbe2-49fbcb665642"
      },
      "outputs": [
        {
          "name": "stdout",
          "output_type": "stream",
          "text": [
            "Model: \"sequential_22\"\n",
            "_________________________________________________________________\n",
            " Layer (type)                Output Shape              Param #   \n",
            "=================================================================\n",
            " conv2d_60 (Conv2D)          (None, 26, 26, 64)        640       \n",
            "                                                                 \n",
            " conv2d_61 (Conv2D)          (None, 24, 24, 64)        36928     \n",
            "                                                                 \n",
            " max_pooling2d_36 (MaxPoolin  (None, 12, 12, 64)       0         \n",
            " g2D)                                                            \n",
            "                                                                 \n",
            " batch_normalization_36 (Bat  (None, 12, 12, 64)       256       \n",
            " chNormalization)                                                \n",
            "                                                                 \n",
            " conv2d_62 (Conv2D)          (None, 10, 10, 128)       73856     \n",
            "                                                                 \n",
            " conv2d_63 (Conv2D)          (None, 8, 8, 128)         147584    \n",
            "                                                                 \n",
            " max_pooling2d_37 (MaxPoolin  (None, 4, 4, 128)        0         \n",
            " g2D)                                                            \n",
            "                                                                 \n",
            " batch_normalization_37 (Bat  (None, 4, 4, 128)        512       \n",
            " chNormalization)                                                \n",
            "                                                                 \n",
            " conv2d_64 (Conv2D)          (None, 2, 2, 256)         295168    \n",
            "                                                                 \n",
            " max_pooling2d_38 (MaxPoolin  (None, 1, 1, 256)        0         \n",
            " g2D)                                                            \n",
            "                                                                 \n",
            " flatten_12 (Flatten)        (None, 256)               0         \n",
            "                                                                 \n",
            " batch_normalization_38 (Bat  (None, 256)              1024      \n",
            " chNormalization)                                                \n",
            "                                                                 \n",
            " dense_45 (Dense)            (None, 512)               131584    \n",
            "                                                                 \n",
            " dense_46 (Dense)            (None, 10)                5130      \n",
            "                                                                 \n",
            "=================================================================\n",
            "Total params: 692,682\n",
            "Trainable params: 691,786\n",
            "Non-trainable params: 896\n",
            "_________________________________________________________________\n"
          ]
        }
      ],
      "source": [
        "model2.summary()"
      ]
    },
    {
      "cell_type": "code",
      "execution_count": null,
      "metadata": {
        "id": "EHkdV4I68rHU"
      },
      "outputs": [],
      "source": [
        "epochs = 50\n",
        "batch_size = 64"
      ]
    },
    {
      "cell_type": "code",
      "execution_count": null,
      "metadata": {
        "colab": {
          "background_save": true,
          "base_uri": "https://localhost:8080/"
        },
        "id": "NQ9dXxEp8-3l",
        "outputId": "650f3a5b-afe6-4ff6-c7fc-7216fcbe09f2"
      },
      "outputs": [
        {
          "name": "stdout",
          "output_type": "stream",
          "text": [
            "Epoch 1/15\n",
            "938/938 [==============================] - 420s 446ms/step - loss: 0.1448 - accuracy: 0.9645 - val_loss: 0.0641 - val_accuracy: 0.9827\n",
            "Epoch 2/15\n",
            "938/938 [==============================] - 419s 446ms/step - loss: 0.0442 - accuracy: 0.9882 - val_loss: 0.0393 - val_accuracy: 0.9899\n",
            "Epoch 3/15\n",
            "938/938 [==============================] - 416s 443ms/step - loss: 0.0292 - accuracy: 0.9925 - val_loss: 0.0293 - val_accuracy: 0.9920\n",
            "Epoch 4/15\n",
            "938/938 [==============================] - 422s 450ms/step - loss: 0.0207 - accuracy: 0.9949 - val_loss: 0.0272 - val_accuracy: 0.9920\n",
            "Epoch 5/15\n",
            "938/938 [==============================] - 426s 454ms/step - loss: 0.0151 - accuracy: 0.9967 - val_loss: 0.0246 - val_accuracy: 0.9924\n",
            "Epoch 6/15\n",
            "938/938 [==============================] - 421s 449ms/step - loss: 0.0119 - accuracy: 0.9977 - val_loss: 0.0244 - val_accuracy: 0.9924\n",
            "Epoch 7/15\n",
            "938/938 [==============================] - 422s 449ms/step - loss: 0.0085 - accuracy: 0.9990 - val_loss: 0.0241 - val_accuracy: 0.9921\n",
            "Epoch 8/15\n",
            "938/938 [==============================] - 419s 447ms/step - loss: 0.0069 - accuracy: 0.9991 - val_loss: 0.0225 - val_accuracy: 0.9930\n",
            "Epoch 9/15\n",
            "546/938 [================>.............] - ETA: 2:49 - loss: 0.0057 - accuracy: 0.9993"
          ]
        }
      ],
      "source": [
        "history3 = model2.fit(X_train, Y_train, epochs = 15, batch_size = 64, validation_data = (X_test,Y_test))"
      ]
    },
    {
      "cell_type": "code",
      "execution_count": null,
      "metadata": {
        "id": "K1yLyYUY9W4j"
      },
      "outputs": [],
      "source": [
        ""
      ]
    }
  ],
  "metadata": {
    "colab": {
      "name": "Convolutional Neural Network.ipynb",
      "provenance": []
    },
    "kernelspec": {
      "display_name": "Python 3",
      "name": "python3"
    },
    "language_info": {
      "name": "python"
    }
  },
  "nbformat": 4,
  "nbformat_minor": 0
}